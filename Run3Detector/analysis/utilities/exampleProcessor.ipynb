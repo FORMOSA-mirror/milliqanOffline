{
 "cells": [
  {
   "cell_type": "code",
   "execution_count": 1,
   "metadata": {},
   "outputs": [
    {
     "name": "stderr",
     "output_type": "stream",
     "text": [
      "Warning in <TInterpreter::ReadRootmapFile>: class  edm::Wrapper<std::vector<bool> > found in libDataFormatsWrappedStdDictionaries.so  is already in libOSUT3AnalysisAnaTools.so \n",
      "Warning in <TInterpreter::ReadRootmapFile>: class  edm::Wrapper<vector<bool> > found in libDataFormatsWrappedStdDictionaries.so  is already in libOSUT3AnalysisAnaTools.so \n"
     ]
    },
    {
     "name": "stdout",
     "output_type": "stream",
     "text": [
      "Welcome to JupyROOT 6.24/07\n"
     ]
    }
   ],
   "source": [
    "import ROOT as r\n",
    "import uproot\n",
    "import hist\n",
    "import matplotlib.pyplot as plt\n",
    "import awkward as ak\n",
    "import numpy as np\n",
    "import array as arr\n",
    "from milliqanProcessor import *"
   ]
  },
  {
   "cell_type": "code",
   "execution_count": 2,
   "metadata": {},
   "outputs": [],
   "source": [
    "def getMaxPulseTime(events):\n",
    "    t_0 = events.time_module_calibrated[(events.eventCuts) & (events.layer0) & (events.straightPulses)]\n",
    "    t_1 = events.time_module_calibrated[(events.eventCuts) & (events.layer1) & (events.straightPulses)]\n",
    "    t_2 = events.time_module_calibrated[(events.eventCuts) & (events.layer2) & (events.straightPulses)]\n",
    "    t_3 = events.time_module_calibrated[(events.eventCuts) & (events.layer3) & (events.straightPulses)]\n",
    "\n",
    "    #example of getting max value mask\n",
    "    events['max_height'] = events.height == ak.max(events.height, axis=1, keepdims=True)\n",
    "\n",
    "    passingHeights0 = events.height[(events.eventCuts) & (events.layer0) & (events.straightPulses)]\n",
    "    passingHeights1 = events.height[(events.eventCuts) & (events.layer1) & (events.straightPulses)]\n",
    "    passingHeights2 = events.height[(events.eventCuts) & (events.layer2) & (events.straightPulses)]\n",
    "    passingHeights3 = events.height[(events.eventCuts) & (events.layer3) & (events.straightPulses)]\n",
    "\n",
    "    #print(len(ak.drop_none(ak.flatten(ak.max(passingHeights0, axis=1, keepdims=True)))), len(ak.drop_none(ak.flatten(ak.max(passingHeights1, axis=1, keepdims=True)))), len(ak.drop_none(ak.flatten(ak.max(passingHeights2, axis=1, keepdims=True)))), len(ak.drop_none(ak.flatten(ak.max(passingHeights3, axis=1, keepdims=True)))))\n",
    "\n",
    "    max_pulse0 = ak.pad_none(passingHeights0, 1, axis=1) == ak.max(passingHeights0, axis=1, keepdims=True, initial=0)\n",
    "    max_pulse1 = ak.pad_none(passingHeights1, 1, axis=1) == ak.max(passingHeights1, axis=1, keepdims=True, initial=0)\n",
    "    max_pulse2 = ak.pad_none(passingHeights2, 1, axis=1) == ak.max(passingHeights2, axis=1, keepdims=True, initial=0)\n",
    "    max_pulse3 = ak.pad_none(passingHeights3, 1, axis=1) == ak.max(passingHeights3, axis=1, keepdims=True, initial=0)\n",
    "\n",
    "    #print(ak.pad_none(passingHeights0, 1, axis=1))\n",
    "    #print(ak.max(passingHeights0, axis=1, keepdims=True, initial=0))\n",
    "\n",
    "    #print(ak.drop_none(max_pulse0, axis=1))\n",
    "\n",
    "    t_0 = t_0[ak.drop_none(max_pulse0, axis=1)]\n",
    "    t_1 = t_1[ak.drop_none(max_pulse1, axis=1)]\n",
    "    t_2 = t_2[ak.drop_none(max_pulse2, axis=1)]\n",
    "    t_3 = t_3[ak.drop_none(max_pulse3, axis=1)]\n",
    "\n",
    "    return t_0, t_1, t_2, t_3\n",
    "\n",
    "    #np.set_printoptions(threshold=np.inf)"
   ]
  },
  {
   "cell_type": "code",
   "execution_count": 4,
   "metadata": {},
   "outputs": [
    {
     "name": "stdout",
     "output_type": "stream",
     "text": [
      "Number of events 404605\n",
      "Number of passing events 111616\n"
     ]
    },
    {
     "name": "stderr",
     "output_type": "stream",
     "text": [
      "Warning in <TROOT::Append>: Replacing existing TH1: h_timeDiff (Potential memory leak).\n",
      "Warning in <TROOT::Append>: Replacing existing TH1: h_time0 (Potential memory leak).\n"
     ]
    },
    {
     "data": {
      "image/png": "[encoded data removed]",
      "text/plain": [
       "<Figure size 432x288 with 1 Axes>"
      ]
     },
     "metadata": {
      "needs_background": "light"
     },
     "output_type": "display_data"
    }
   ],
   "source": [
    "if __name__ == \"__main__\":\n",
    "\n",
    "    filelist = ['/store/user/milliqan/trees/v33/combined/MilliQan_Run1031_combined.root:t']\n",
    "    branches = ['boardsMatched', 'time_module_calibrated', 'height', 'area', 'column', 'row', 'layer']\n",
    "\n",
    "    branchesToMake = ['layerCut', 'fourLayerCut', 'straightLineCut', \"combineCuts(['fourLayers', 'straightPath']; 'eventCuts')\", 'threeAreaSaturatedInLine(50000)', \"combineCuts(['eventCuts', 'three_sat']; 'eventCuts')\"]\n",
    "\n",
    "    myiterator = milliqanProcessor(filelist, branches)\n",
    "    myiterator.setCustomFunction(getMaxPulseTime)\n",
    "    myiterator.setBranches(branchesToMake)\n",
    "    myiterator.run()"
   ]
  },
  {
   "cell_type": "code",
   "execution_count": null,
   "metadata": {},
   "outputs": [],
   "source": [
    "c1 = r.TCanvas(\"c1\", \"c1\", 600, 600)\n",
    "c1.cd()\n",
    "myiterator.h_timeDiff.Draw()\n",
    "c1.Draw()\n"
   ]
  },
  {
   "cell_type": "code",
   "execution_count": null,
   "metadata": {},
   "outputs": [],
   "source": []
  }
 ],
 "metadata": {
  "kernelspec": {
   "display_name": "Python 3",
   "language": "python",
   "name": "python3"
  },
  "language_info": {
   "codemirror_mode": {
    "name": "ipython",
    "version": 3
   },
   "file_extension": ".py",
   "mimetype": "text/x-python",
   "name": "python",
   "nbconvert_exporter": "python",
   "pygments_lexer": "ipython3",
   "version": "3.9.6"
  }
 },
 "nbformat": 4,
 "nbformat_minor": 2
}
