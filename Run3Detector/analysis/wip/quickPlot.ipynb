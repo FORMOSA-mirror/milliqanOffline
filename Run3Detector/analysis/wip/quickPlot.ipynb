{
 "cells": [
  {
   "cell_type": "code",
   "execution_count": 3,
   "id": "591a39f9",
   "metadata": {},
   "outputs": [
    {
     "name": "stderr",
     "output_type": "stream",
     "text": [
      "Warning in <TInterpreter::ReadRootmapFile>: class  edm::Wrapper<std::vector<bool> > found in libDataFormatsWrappedStdDictionaries.so  is already in libOSUT3AnalysisAnaTools.so \n",
      "Warning in <TInterpreter::ReadRootmapFile>: class  edm::Wrapper<vector<bool> > found in libDataFormatsWrappedStdDictionaries.so  is already in libOSUT3AnalysisAnaTools.so \n"
     ]
    },
    {
     "name": "stdout",
     "output_type": "stream",
     "text": [
      "Welcome to JupyROOT 6.24/07\n"
     ]
    }
   ],
   "source": [
    "import ROOT as r\n",
    "import os\n",
    "import argparse\n",
    "import sys\n",
    "import math"
   ]
  },
  {
   "cell_type": "code",
   "execution_count": 4,
   "id": "48fda598",
   "metadata": {},
   "outputs": [
    {
     "data": {
      "text/plain": [
       "True"
      ]
     },
     "execution_count": 4,
     "metadata": {},
     "output_type": "execute_result"
    }
   ],
   "source": [
    "r.gInterpreter.Declare(\n",
    "    '''\n",
    "    TH1D* plotWaveform(const unsigned int ch, TH1D*& waveform, TString name){\n",
    "        TH1D * wave = new TH1D(name, name, 1024, 0, 2560);\n",
    "        if(ch >= 16) {\n",
    "            std::cout << \"Error: channel number must be between 0-16\" << std::endl;\n",
    "            return wave;\n",
    "        }\n",
    "        wave->Reset();\n",
    "        for(unsigned int i = 0; i < 1024; i++) {\n",
    "            wave->SetBinContent(i+1, waveform[ch][i]);\n",
    "        }\n",
    "        return wave;\n",
    "    }\n",
    "''')"
   ]
  },
  {
   "cell_type": "code",
   "execution_count": 68,
   "id": "d76d31e9",
   "metadata": {},
   "outputs": [],
   "source": [
    "\n",
    "class quickPlot():\n",
    "    \n",
    "    \n",
    "    def __init__(self):\n",
    "        print(\"hello\")\n",
    "        \n",
    "        self.args = self.parse_args()\n",
    "    \n",
    "        if not self.args.events:\n",
    "            print(\"Need to give event numbers to plot\")\n",
    "            sys.exit(1)\n",
    "        if not self.args.fileName and (not self.args.run or not self.args.fileNumber):\n",
    "            print(\"Need to give either a run and file number or a filename as input\")\n",
    "            sys.exit(1)\n",
    "            \n",
    "        self.offlineDir = '/share/scratch0/mcarrigan/milliQan/processTrees/milliqanOffline/Run3Detector/'\n",
    "        self.dataDir = '/store/user/milliqan/run3Data/'\n",
    "        self.parseInputFile()\n",
    "        self.canvases = self.makeCanvas()\n",
    "        self.callSingularity()\n",
    "        self.copyDisplays()\n",
    "        #self.loadFile()\n",
    "        #self.plotEvents()\n",
    "        #r.gSystem.Load('~/scratch0/milliQan/processTrees/MilliDAQ/libMilliDAQ.so')\n",
    "    \n",
    "    def parse_args(self):\n",
    "        parser = argparse.ArgumentParser()\n",
    "        parser.add_argument('-r', '--run', default=1114, type=int, help='run number of input file')\n",
    "        parser.add_argument('-n', '--fileNumber', default=1, type=int, help='file number of input file')\n",
    "        parser.add_argument('-f', '--fileName', default='~/scratch0/milliQan/MilliQan_Run1114.1_test.root', type=str, help='input file name')\n",
    "        parser.add_argument('-e', '--events', default=1, type=int, help='events to plot')\n",
    "        args = parser.parse_args()\n",
    "        return args\n",
    "    \n",
    "    def parseInputFile(self):\n",
    "        if self.args.run and self.args.fileNumber:\n",
    "            self.runNum = self.args.run\n",
    "            self.fileNum = self.args.fileNumber\n",
    "            self.fileName = '{0}MilliQan_Run{1}.{2}_default.root'.format(self.dataDir, str(self.runNum), str(self.fileNum))\n",
    "        elif self.fileName != '':\n",
    "            self.fileName = self.args.fileName\n",
    "            self.runNum = int(self.fileName.split('Run')[-1].split('.')[0])\n",
    "            self.fileNum = int(self.fileName.split('.')[-1].split('_')[0])\n",
    "        else:\n",
    "            print(\"Need to provide either the run and file number or the file name\")\n",
    "            sys.exit(1)\n",
    "        #self.dataDir += math.floor(self.runNum)\n",
    "            \n",
    "    def callSingularity(self):\n",
    "        bindDirs = '/store/user/milliqan/,/share/scratch0/mcarrigan/milliQan/processTrees/milliqanOffline'\n",
    "        sif = '/share/scratch0/mcarrigan/milliQan/processTrees/offline.sif'\n",
    "        outputFile = os.getcwd() + '/test.root'\n",
    "        exe = './run.exe'\n",
    "        home = self.offlineDir+':/home'\n",
    "        commands = 'singularity/makeDisplays.sh {0} {1} {2} {3}'.format(self.fileName, outputFile, exe, self.args.events)\n",
    "        cmd = 'singularity exec --home {0} -B {1} {2} {3}'.format(home, bindDirs, sif, commands)\n",
    "        os.system(cmd)\n",
    "        \n",
    "    def copyDisplays(self):\n",
    "        displayDir = self.offlineDir + '/displays/Run' + str(self.runNum) + '/'\n",
    "        os.system('cp -r {0} {1}'.format(displayDir, os.getcwd()))\n",
    "            "
   ]
  },
  {
   "cell_type": "code",
   "execution_count": 67,
   "id": "f4c684b3",
   "metadata": {},
   "outputs": [
    {
     "name": "stdout",
     "output_type": "stream",
     "text": [
      "hello\n",
      "sourced setup!\n",
      "Running in standard mode with:\n",
      "Input file: /store/user/milliqan/run3/1100/0001/MilliQan_Run1114.1_default.root\n",
      "Output file: /share/scratch0/mcarrigan/milliQan/analysis/milliqanOffline/Run3Detector/analysis/wip/test.root\n",
      "Loaded channel map\n",
      "Loaded pulse finding params\n",
      "Loaded timing calibrations\n",
      "Loaded spe areas\n",
      "Loaded pedestal corrections\n",
      "Loaded sample rate: 0.4 GHz\n",
      "This will be overwritten by metadata if available\n",
      "Configuration: {\"chanMap\": [[0, 3, 0, 0], [1, 3, 0, 0], [0, 2, 0, 0], [1, 2, 0, 0], [2, 3, 0, 0], [3, 3, 0, 0], [2, 2, 0, 0], [3, 2, 0, 0], [0, 1, 0, 0], [1, 1, 0, 0], [0, 0, 0, 0], [1, 0, 0, 0], [2, 1, 0, 0], [3, 1, 0, 0], [2, 0, 0, 0], [3, 0, 0, 0], [0, 3, 1, 0], [1, 3, 1, 0], [0, 2, 1, 0], [1, 2, 1, 0], [2, 3, 1, 0], [3, 3, 1, 0], [2, 2, 1, 0], [3, 2, 1, 0], [-1, -1, -1, -1], [-1, -1, -1, -1], [0, 0, 1, 0], [1, 0, 1, 0], [2, 1, 1, 0], [3, 1, 1, 0], [2, 0, 1, 0], [3, 0, 1, 0], [0, 3, 2, 0], [1, 3, 2, 0], [0, 2, 2, 0], [1, 2, 2, 0], [2, 3, 2, 0], [3, 3, 2, 0], [2, 2, 2, 0], [3, 2, 2, 0], [0, 1, 2, 0], [1, 1, 2, 0], [0, 0, 2, 0], [1, 0, 2, 0], [2, 1, 2, 0], [3, 1, 2, 0], [2, 0, 2, 0], [3, 0, 2, 0], [0, 3, 3, 0], [1, 3, 3, 0], [0, 2, 3, 0], [1, 2, 3, 0], [2, 3, 3, 0], [3, 3, 3, 0], [2, 2, 3, 0], [3, 2, 3, 0], [0, 1, 3, 0], [1, 1, 3, 0], [0, 0, 3, 0], [1, 0, 3, 0], [2, 1, 3, 0], [3, 1, 3, 0], [2, 0, 3, 0], [3, 0, 3, 0], [-1, -1, -1, 1], [-1, -1, -1, -1], [-1, -1, -1, -1], [-1, -1, -1, -1], [0, 4, 0, 2], [4, 0, 0, 2], [-1, 0, 0, 2], [0, 0, -1, 1], [0, 4, 2, 2], [4, 0, 2, 2], [-1, 0, 2, 2], [0, 0, 4, 1], [-1, -1, -1, -1], [-1, -1, -1, -1], [0, 1, 1, 0], [1, 1, 1, 0]], \"pulseParams\": {\"nConsecSamples\": [3], \"nConsecSamplesEnd\": [3], \"highThresh\": [10], \"lowThresh\": [1]}, \"sampleRate\": 0.4, \"timingCalibrations\": [], \"speAreas\": [1250.0, 500.0, 1100.0, 1400.0, 1, 1, 1, 1, 1, 1, 1, 1, 800.0, 900.0, 1100.0, 1000.0, 1000.0, 500.0, 1100.0, 900.0, 1, 1, 1, 1, 1, 1, 1, 1, 800.0, 1100.0, 900.0, 800.0, 1500.0, 700.0, 1000.0, 1, 1, 1, 1, 1, 1, 1, 1, 1, 1200.0, 1000.0, 800.0, 800.0, 600.0, 800.0, 900.0, 700.0, 1, 1, 1, 1, 1, 1, 1, 1, 900.0, 1300.0, 1000.0, 900.0, 1, 1, 1, 1, 1, 1, 1, 1, 1, 1, 1, 1, 1, 1, 1, 1], \"pedestals\": [0.1, -0.4, 0.4, 1.2, 0.5, -0.1, 0.8, -0.4, 0.6, 0.2, 0.7, -0.2, 1.1, 0.3, 0.2, -0.2, 5.8, -0.2, 0.0, 0.6, 0.1, 0.0, 0.1, 0.2, 0.0, 0.2, -0.2, 0.0, 0.0, -0.2, 0.1, 0.0, 0.5, 0.3, 0.1, 0.0, 0.2, -0.3, -0.1, 0.2, -0.2, -0.3, 0.7, 0.1, 0.6, 0.1, 0.1, 0.0, 0.7, 1.0, 0.5, -1.9, 1.0, 1.0, -1.1, -0.1, -0.1, -0.6, 0.1, -1.2, 0.6, -0.5, 0.0, 0.1, -0.5, -0.2, 0.6, 0.1, 0.5, -2.3, -0.2, 0.2, -0.3, -2.0, -5.3, -7.8, 0.8, -0.3, 0.1, 0.3]}\n",
      "Overwriting sample rate from metadata: 0.4 GHz\n",
      "Output made successfully\n"
     ]
    },
    {
     "name": "stderr",
     "output_type": "stream",
     "text": [
      "Warning in <TCanvas::Constructor>: Deleting canvas with same name: c0\n",
      "\u001b[33mWARNING:\u001b[0m Bind mount '/share/scratch0/mcarrigan/milliQan/processTrees/milliqanOffline/Run3Detector => /home' overlaps container CWD /home/mcarrigan/scratch0/milliQan/analysis/milliqanOffline/Run3Detector/analysis/wip, may not be available\n",
      "Warning in <TStreamerInfo::BuildCheck>: \n",
      "   The StreamerInfo of class mdaq::V1743Event read from file /store/user/milliqan/run3/1100/0001/MilliQan_Run1114.1_default.root\n",
      "   has the same version (=2) as the active class but a different checksum.\n",
      "   You should update the version to ClassDef(mdaq::V1743Event,3).\n",
      "   Do not try to write objects with the current class definition,\n",
      "   the files will not be readable.\n",
      "\n",
      "Warning in <TStreamerInfo::CompareContent>: The following data member of\n",
      "the in-memory layout version 2 of class 'mdaq::V1743Event' is missing from \n",
      "the on-file layout version 2:\n",
      "   unsigned short nTimesMatched; //\n",
      "Info in <TCanvas::Print>: pdf file /home/displays//Run1114/Run1114_File1_Event1_Version_v32.pdf has been created\n",
      "Info in <TCanvas::Print>: png file /home/displays//Run1114/Run1114_File1_Event1_Version_v32.png has been created\n"
     ]
    }
   ],
   "source": [
    "if __name__ == \"__main__\":\n",
    "        \n",
    "    quickPlot()\n",
    "    "
   ]
  },
  {
   "cell_type": "code",
   "execution_count": 51,
   "id": "2dc43aa4",
   "metadata": {},
   "outputs": [
    {
     "data": {
      "text/plain": [
       "'/share/scratch0/mcarrigan/milliQan/analysis/milliqanOffline/Run3Detector/analysis/wip'"
      ]
     },
     "execution_count": 51,
     "metadata": {},
     "output_type": "execute_result"
    }
   ],
   "source": [
    "os.getcwd()"
   ]
  },
  {
   "cell_type": "code",
   "execution_count": null,
   "id": "792f0ccc",
   "metadata": {},
   "outputs": [],
   "source": []
  }
 ],
 "metadata": {
  "kernelspec": {
   "display_name": "Python 3",
   "language": "python",
   "name": "python3"
  },
  "language_info": {
   "codemirror_mode": {
    "name": "ipython",
    "version": 3
   },
   "file_extension": ".py",
   "mimetype": "text/x-python",
   "name": "python",
   "nbconvert_exporter": "python",
   "pygments_lexer": "ipython3",
   "version": "3.9.6"
  }
 },
 "nbformat": 4,
 "nbformat_minor": 5
}
