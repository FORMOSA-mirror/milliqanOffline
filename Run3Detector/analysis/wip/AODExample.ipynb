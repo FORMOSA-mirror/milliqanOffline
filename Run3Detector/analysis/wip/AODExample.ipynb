{
 "cells": [
  {
   "cell_type": "code",
   "execution_count": 1,
   "id": "6531e8c4",
   "metadata": {},
   "outputs": [
    {
     "name": "stderr",
     "output_type": "stream",
     "text": [
      "Warning in <TInterpreter::ReadRootmapFile>: class  edm::Wrapper<std::vector<bool> > found in libDataFormatsWrappedStdDictionaries.so  is already in libOSUT3AnalysisAnaTools.so \n",
      "Warning in <TInterpreter::ReadRootmapFile>: class  edm::Wrapper<vector<bool> > found in libDataFormatsWrappedStdDictionaries.so  is already in libOSUT3AnalysisAnaTools.so \n"
     ]
    },
    {
     "name": "stdout",
     "output_type": "stream",
     "text": [
      "Welcome to JupyROOT 6.24/07\n"
     ]
    }
   ],
   "source": [
    "import ROOT\n",
    "ROOT.gROOT.SetBatch(True)\n",
    "ROOT.gSystem.Load(\"libFWCoreFWLite.so\");\n",
    "ROOT.gSystem.Load(\"libDataFormatsFWLite.so\");\n",
    "ROOT.FWLiteEnabler.enable()\n",
    "from DataFormats.FWLite import Handle, Events\n"
   ]
  },
  {
   "cell_type": "code",
   "execution_count": 2,
   "id": "c476d8bc",
   "metadata": {},
   "outputs": [],
   "source": [
    "isoTracks, isoTracksLabel = Handle(\"std::vector<pat::IsolatedTrack>\"), \"isolatedTracks\"\n",
    "muons, muonLabel = Handle(\"std::vector<pat::Muon>\"), \"slimmedMuons\"\n",
    "tracks, tracksLabel = Handle(\"std::vector<reco::Track>\"), \"generalTracks\"\n"
   ]
  },
  {
   "cell_type": "code",
   "execution_count": null,
   "id": "6a0b6863",
   "metadata": {},
   "outputs": [],
   "source": [
    "events = Events('/store/user/mcarrigan/NeutrinoGun_step3_v2/hist_10.root')\n",
    "\n",
    "h_2022 = ROOT.TH1F(\"h_2022\", \"Pt of General Tracks 2022\", 200, 0, 100)\n",
    "h_2017 = ROOT.TH1F(\"h_2017\", \"Pt of General Tracks 2017\", 200, 0, 100)"
   ]
  },
  {
   "cell_type": "code",
   "execution_count": null,
   "id": "f907c1b5",
   "metadata": {},
   "outputs": [],
   "source": [
    "evtCount = 0\n",
    "for iev,event in enumerate(events):\n",
    "    #if iev >= 10: break\n",
    "    event.getByLabel(tracksLabel, tracks)\n",
    "    #print(\"\\nEvent %d: run %6d, lumi %4d, event %12d\" % (iev,event.eventAuxiliary().run(), event.eventAuxiliary().luminosityBlock(),event.eventAuxiliary().event()))\n",
    "    print(\"Event {0}, total tracks {1}\".format(iev, len(tracks.product())))\n",
    "    for i,track in enumerate(tracks.product()):\n",
    "        #print('\\t', i, track.pt())\n",
    "        if track.pt() > 55: evtCount+=1\n",
    "print(\"Number of tracks passing pt cut {}\".format(evtCount))"
   ]
  },
  {
   "cell_type": "code",
   "execution_count": null,
   "id": "c19b44f5",
   "metadata": {},
   "outputs": [],
   "source": [
    "events = Events('root://cmsxrootd.fnal.gov://store/mc/Run3Summer22DRPremix/SingleNeutrino_E-10_gun/AODSIM/SNB_124X_mcRun3_2022_realistic_v12-v2/70000/09ba7969-5522-42bb-bc5a-61543ace1af3.root')\n",
    "eventsMini = Events('root://cmsxrootd.fnal.gov://store/mc/Run3Summer22MiniAODv3/SingleNeutrino_E-10_gun/MINIAODSIM/SNB_124X_mcRun3_2022_realistic_v12-v2/70000/2e72569a-ed24-48fb-b632-0f4fdd3dc4e5.root')"
   ]
  },
  {
   "cell_type": "code",
   "execution_count": null,
   "id": "693720f4",
   "metadata": {},
   "outputs": [],
   "source": [
    "evtCount = 0\n",
    "for iev,event in enumerate(events):\n",
    "    #if iev >= 10: break\n",
    "    if iev%1000==0: print(\"Working on event\", iev)\n",
    "    event.getByLabel(tracksLabel, tracks)\n",
    "    #print(\"Event {0}, total tracks {1}\".format(iev, len(tracks.product())))\n",
    "    for i,track in enumerate(tracks.product()):\n",
    "        #print('\\t', i, track.pt())\n",
    "        if track.pt() > 55: evtCount+=1\n",
    "print(\"Number of tracks passing pt cut {}\".format(evtCount))"
   ]
  },
  {
   "cell_type": "code",
   "execution_count": 3,
   "id": "21aa5d00",
   "metadata": {},
   "outputs": [],
   "source": [
    "m_pi = 1.570796\n",
    "def inGap(track):\n",
    "    TOB = (abs(track.dz()) < 0.5 and abs(m_pi - track.theta()) < 1.0e-3)\n",
    "    ECAL = (abs(track.eta()) >= 1.42 and abs(track.eta()) <= 1.65)\n",
    "    DT = abs(track.eta()) >= 0.15 and abs(track.eta()) <= 0.35\n",
    "    CSC = abs(track.eta()) >= 1.55 and abs(track.eta()) <= 1.85\n",
    "    inGap = TOB or ECAL or DT or CSC\n",
    "    return inGap"
   ]
  },
  {
   "cell_type": "code",
   "execution_count": 4,
   "id": "0d8e509d",
   "metadata": {},
   "outputs": [
    {
     "name": "stdout",
     "output_type": "stream",
     "text": [
      "Working on event 0\n",
      "Number of tracks passing cuts [1574, 800, 20, 12, 5, 1, 1, 0]\n"
     ]
    }
   ],
   "source": [
    "evtCount = [0,0,0,0,0,0,0,0]\n",
    "eventsMini = Events('root://cmsxrootd.fnal.gov://store/mc/Run3Summer22MiniAODv3/SingleNeutrino_E-10_gun/MINIAODSIM/SNB_124X_mcRun3_2022_realistic_v12-v2/70000/2e72569a-ed24-48fb-b632-0f4fdd3dc4e5.root')\n",
    "#eventsMini = Events('/home/mcarrigan/scratch0/disTracksML/CMSSW_9_4_9/src/DisappTrksML/TreeMaker/test/step1_PAT_test.root')\n",
    "for iev,event in enumerate(eventsMini):\n",
    "    if iev >= 1000: break\n",
    "    if iev%10000==0: print(\"Working on event\", iev)\n",
    "    event.getByLabel(isoTracksLabel, isoTracks)\n",
    "    #print(\"Event {0}, total tracks {1}\".format(iev, len(tracks.product())))\n",
    "    for i,track in enumerate(isoTracks.product()):\n",
    "        evtCount[0] += 1\n",
    "        #print('\\t', i, track.pt())\n",
    "        if not abs(track.eta()) < 2.1: continue\n",
    "        evtCount[1] += 1\n",
    "        if not track.pt() > 25: continue\n",
    "        evtCount[2] += 1\n",
    "        if not track.pt() > 55: continue\n",
    "        evtCount[3] += 1\n",
    "        if inGap(track): continue\n",
    "        evtCount[4] += 1\n",
    "        if not track.hitPattern().numberOfValidPixelHits() >=4: continue\n",
    "        evtCount[5] += 1\n",
    "        if not track.hitPattern().numberOfValidHits() >= 4: continue\n",
    "        evtCount[6] += 1\n",
    "print(\"Number of tracks passing cuts {}\".format(evtCount))"
   ]
  },
  {
   "cell_type": "code",
   "execution_count": null,
   "id": "2459b776",
   "metadata": {},
   "outputs": [],
   "source": [
    "Number of tracks passing cuts [4341, 3021, 878, 193, 132, 43, 43, 0]\n"
   ]
  },
  {
   "cell_type": "code",
   "execution_count": null,
   "id": "a1109405",
   "metadata": {},
   "outputs": [],
   "source": [
    "\n",
    "        "
   ]
  },
  {
   "cell_type": "code",
   "execution_count": null,
   "id": "a1bb1dc2",
   "metadata": {},
   "outputs": [],
   "source": [
    "for iev,event in enumerate(events2017):\n",
    "    event.getByLabel(tracksLabel, tracks)\n",
    "    print(\"Event {0}, total tracks {1}\".format(iev, len(tracks.product())))\n",
    "    for i,track in enumerate(tracks.product()):\n",
    "        #print('\\t', i, track.pt())\n",
    "        h_2017.Fill(track.pt())"
   ]
  },
  {
   "cell_type": "code",
   "execution_count": null,
   "id": "103b246c",
   "metadata": {},
   "outputs": [],
   "source": [
    "c1 = ROOT.TCanvas(\"c1\", \"c1, 800, 800\")\n",
    "c1.cd()"
   ]
  },
  {
   "cell_type": "code",
   "execution_count": null,
   "id": "30f27508",
   "metadata": {},
   "outputs": [],
   "source": [
    "h_2022.Draw()\n",
    "h_2017.SetLineColor(2)\n",
    "h_2017.Draw(\"same\")\n",
    "c1.SetLogy()\n",
    "c1.SetLogx()\n",
    "c1.Draw()"
   ]
  },
  {
   "cell_type": "code",
   "execution_count": null,
   "id": "3fa655c5",
   "metadata": {},
   "outputs": [],
   "source": []
  }
 ],
 "metadata": {
  "kernelspec": {
   "display_name": "Python 3",
   "language": "python",
   "name": "python3"
  },
  "language_info": {
   "codemirror_mode": {
    "name": "ipython",
    "version": 3
   },
   "file_extension": ".py",
   "mimetype": "text/x-python",
   "name": "python",
   "nbconvert_exporter": "python",
   "pygments_lexer": "ipython3",
   "version": "3.9.6"
  }
 },
 "nbformat": 4,
 "nbformat_minor": 5
}
